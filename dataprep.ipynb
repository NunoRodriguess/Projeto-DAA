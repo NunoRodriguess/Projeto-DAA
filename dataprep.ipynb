{
 "cells": [
  {
   "cell_type": "code",
   "execution_count": 6,
   "id": "538cb9f6-c0cf-4ed4-9029-87ebdd4f236d",
   "metadata": {},
   "outputs": [],
   "source": [
    "import pandas as pd\n",
    "import numpy as np\n",
    "import matplotlib.pyplot as plt\n",
    "import seaborn as sns\n",
    "import imblearn\n",
    "from sklearn.preprocessing import MinMaxScaler"
   ]
  },
  {
   "cell_type": "code",
   "execution_count": 7,
   "id": "133a935f-9398-47a4-9d1a-19dccddedffc",
   "metadata": {},
   "outputs": [],
   "source": [
    "# importar csv\n",
    "control = pd.read_csv(\"sbsppdaa24/train_radiomics_hipocamp.csv\")"
   ]
  },
  {
   "cell_type": "code",
   "execution_count": 8,
   "id": "bb7eb89a-1c92-41dc-85d9-7b9ecc222947",
   "metadata": {},
   "outputs": [],
   "source": [
    "# dropar columas mask,id,image, que são unicas por linha\n",
    "control.drop(columns=[\"Mask\",\"ID\",\"Image\"], inplace=True)"
   ]
  },
  {
   "cell_type": "code",
   "execution_count": 9,
   "id": "068f43a0-a834-4091-812c-c24c21107c7a",
   "metadata": {},
   "outputs": [
    {
     "name": "stdout",
     "output_type": "stream",
     "text": [
      "Dropped 5 constant columns.\n"
     ]
    }
   ],
   "source": [
    "# Dropar colunas constantes\n",
    "control.drop(columns=columns_to_drop, inplace=True)\n",
    "print(f\"Dropped {len(columns_to_drop)} constant columns.\")"
   ]
  },
  {
   "cell_type": "code",
   "execution_count": 10,
   "id": "e52099c9-55ba-4b2e-b345-9ff76f193bed",
   "metadata": {},
   "outputs": [
    {
     "name": "stdout",
     "output_type": "stream",
     "text": [
      "Dropped 0 unique non-numerical columns.\n"
     ]
    }
   ],
   "source": [
    "# Dropar columas com todos os valores unicos e não numericos\n",
    "columns_to_drop = [col for col in control.columns if control[col].dtype == 'object' and control[col].nunique() == len(control)]\n",
    "control.drop(columns=columns_to_drop, inplace=True)\n",
    "print(f\"Dropped {len(columns_to_drop)} unique non-numerical columns.\")"
   ]
  },
  {
   "cell_type": "code",
   "execution_count": 11,
   "id": "68d85e15-f8a6-4563-b3df-c90fc89e90fd",
   "metadata": {},
   "outputs": [],
   "source": [
    "# mixmax para colunas do tipo float\n",
    "# coloca valores entre 0 e 1, divide o valor anterior pelo maximo da coluna \n",
    "float_cols = control.select_dtypes(include=['float'])\n",
    "scaler = MinMaxScaler()\n",
    "scaled_float_cols = pd.DataFrame(scaler.fit_transform(float_cols), columns=float_cols.columns)\n",
    "control[float_cols.columns] = scaled_float_cols"
   ]
  },
  {
   "cell_type": "code",
   "execution_count": 12,
   "id": "f0328730-4865-48d8-b83c-c17d014fbe3a",
   "metadata": {},
   "outputs": [],
   "source": [
    "#control.head()"
   ]
  },
  {
   "cell_type": "code",
   "execution_count": null,
   "id": "29b641a3-a8e5-4737-b220-378eb0e42963",
   "metadata": {},
   "outputs": [],
   "source": []
  }
 ],
 "metadata": {
  "kernelspec": {
   "display_name": "Python 3 (ipykernel)",
   "language": "python",
   "name": "python3"
  },
  "language_info": {
   "codemirror_mode": {
    "name": "ipython",
    "version": 3
   },
   "file_extension": ".py",
   "mimetype": "text/x-python",
   "name": "python",
   "nbconvert_exporter": "python",
   "pygments_lexer": "ipython3",
   "version": "3.12.4"
  }
 },
 "nbformat": 4,
 "nbformat_minor": 5
}
